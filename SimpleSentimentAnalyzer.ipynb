{
  "nbformat": 4,
  "nbformat_minor": 0,
  "metadata": {
    "colab": {
      "provenance": [],
      "authorship_tag": "ABX9TyN5IaAaZ695d00wZx5BERdd",
      "include_colab_link": true
    },
    "kernelspec": {
      "name": "python3",
      "display_name": "Python 3"
    },
    "language_info": {
      "name": "python"
    }
  },
  "cells": [
    {
      "cell_type": "markdown",
      "metadata": {
        "id": "view-in-github",
        "colab_type": "text"
      },
      "source": [
        "<a href=\"https://colab.research.google.com/github/MuhammadMuzammil67/Simple_SentimentAnalyzer/blob/main/SimpleSentimentAnalyzer.ipynb\" target=\"_parent\"><img src=\"https://colab.research.google.com/assets/colab-badge.svg\" alt=\"Open In Colab\"/></a>"
      ]
    },
    {
      "cell_type": "code",
      "execution_count": 1,
      "metadata": {
        "colab": {
          "base_uri": "https://localhost:8080/"
        },
        "id": "-4tfACE7XP1u",
        "outputId": "ff2394fa-7b63-4b03-9577-2cf2f6dc1f9b"
      },
      "outputs": [
        {
          "output_type": "stream",
          "name": "stdout",
          "text": [
            "Requirement already satisfied: nltk in /usr/local/lib/python3.11/dist-packages (3.9.1)\n",
            "Requirement already satisfied: click in /usr/local/lib/python3.11/dist-packages (from nltk) (8.1.8)\n",
            "Requirement already satisfied: joblib in /usr/local/lib/python3.11/dist-packages (from nltk) (1.4.2)\n",
            "Requirement already satisfied: regex>=2021.8.3 in /usr/local/lib/python3.11/dist-packages (from nltk) (2024.11.6)\n",
            "Requirement already satisfied: tqdm in /usr/local/lib/python3.11/dist-packages (from nltk) (4.67.1)\n"
          ]
        }
      ],
      "source": [
        "pip install nltk"
      ]
    },
    {
      "cell_type": "code",
      "source": [
        "import nltk\n",
        "from nltk.sentiment import SentimentIntensityAnalyzer"
      ],
      "metadata": {
        "id": "UXf91CKhXaqo"
      },
      "execution_count": 3,
      "outputs": []
    },
    {
      "cell_type": "code",
      "source": [
        "#Downloading the Vader Lexicon\n",
        "nltk.download('vader_lexicon') #dataset specifically designed for sentiment analysis.\n",
        "\n",
        "def anaylzeText(text):\n",
        "  sia = SentimentIntensityAnalyzer()\n",
        "  sentiment_score = sia.polarity_scores(text)\n",
        "  compond_score = sentiment_score['compound']\n",
        "  if compond_score >= 0.05:\n",
        "    sentiment = 'Positive 😊'\n",
        "  elif compond_score <= -0.05:\n",
        "    sentiment = 'Negative 😠'\n",
        "  else:\n",
        "    sentiment = 'Neutral 😐'\n",
        "\n",
        "\n",
        "  return sentiment"
      ],
      "metadata": {
        "colab": {
          "base_uri": "https://localhost:8080/"
        },
        "id": "SAFzUYSQXrry",
        "outputId": "0a1b488c-0876-425c-d477-ef6e9b421a9a"
      },
      "execution_count": 4,
      "outputs": [
        {
          "output_type": "stream",
          "name": "stderr",
          "text": [
            "[nltk_data] Downloading package vader_lexicon to /root/nltk_data...\n"
          ]
        }
      ]
    },
    {
      "cell_type": "code",
      "source": [
        "userinput = input('Enter your text: ')\n",
        "result = \tanaylzeText(userinput)\n",
        "print(f\"Sentiment is: {result}\")\n",
        "print(f\"Detailed Score: {SentimentIntensityAnalyzer().polarity_scores(userinput)}\")"
      ],
      "metadata": {
        "colab": {
          "base_uri": "https://localhost:8080/"
        },
        "id": "b7IC7PKnYo08",
        "outputId": "dde2b2c6-6908-4c22-fb0d-971df9d18745"
      },
      "execution_count": 7,
      "outputs": [
        {
          "output_type": "stream",
          "name": "stdout",
          "text": [
            "Enter your text: i may or may not be interested  in watching harry potter. \n",
            "Sentiment is: Negative 😠\n",
            "Detailed Score: {'neg': 0.201, 'neu': 0.799, 'pos': 0.0, 'compound': -0.3089}\n"
          ]
        }
      ]
    }
  ]
}